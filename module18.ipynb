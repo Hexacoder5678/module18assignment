{
  "nbformat": 4,
  "nbformat_minor": 0,
  "metadata": {
    "colab": {
      "provenance": []
    },
    "kernelspec": {
      "name": "python3",
      "display_name": "Python 3"
    },
    "language_info": {
      "name": "python"
    }
  },
  "cells": [
    {
      "cell_type": "markdown",
      "source": [
        "ANS 1=>let shoppingcart=['milk','coffee','tea','honey'];\n",
        "\n",
        "if(!shoppingcart.includes('meat')) shoppingcart.unshift('meat');\n",
        "\n",
        "if(!shoppingcart.includes('sugar')) shoppingcart.push(\"sugar\");\n",
        "\n",
        "let allergy=true;\n",
        "if(allergy)\n",
        "    shoppingcart=shoppingcart.filter(x=>x!=='honey');\n",
        "\n",
        "    let idx=shoppingcart.indexOf('tea')\n",
        "        if(idx!==-1){\n",
        "            shoppingcart[idx]='green tea';\n",
        "        }\n",
        "console.log(shoppingcart)"
      ],
      "metadata": {
        "id": "ka4qzRNfzdTp"
      }
    },
    {
      "cell_type": "markdown",
      "source": [
        "Ans 2=>\n",
        "\n",
        "const ages=[19,22,19,24,20,25,26,24,25,24];\n",
        "ages.sort((a,b)=>a-b);\n",
        "console.log('sorted ages',ages);\n",
        "\n",
        "const mini=ages[0];\n",
        "const maxi=ages[ages.length-1];\n",
        "console.log(\"minimum:\" ,mini,\"maxi :\",maxi);\n",
        "\n",
        "let median=0;\n",
        "if(ages.length %2==0){\n",
        "    const mid1=ages[ages.length/2-1];\n",
        "    const mid2=ages[ages.length/2];\n",
        "    median=(mid1 +mid2)/2;\n",
        "}\n",
        "else{\n",
        "    median=ages[Math.floor(ages.length/2)];\n",
        "}\n",
        "console.log(\"median : \",median);\n",
        "\n",
        "\n",
        "const average=ages.reduce((sum,age)=>sum+age,0)/ages.length;\n",
        "console.log(\"average :\",average);\n",
        "const range=maxi-mini;\n",
        "console.log(\"ranges : \",range);\n",
        "\n",
        "console.log(\"abs(min-avg) :\",Math.abs(mini-average));\n",
        "console.log(\"abs(max-avg: \",Math.abs(maxi-average));"
      ],
      "metadata": {
        "id": "Wwv4XZaPzldV"
      }
    },
    {
      "cell_type": "markdown",
      "source": [
        "ANs 3=>let student={name:\"john\"};\n",
        "\n",
        "Object.preventExtensions(student);\n",
        "\n",
        "let extensiblestatus=Object.isExtensible(student);\n",
        "let teacher={subject:'math'};\n",
        "Object.seal(teacher);\n",
        "\n",
        "let sealedstatus=Object.isSealed(teacher);\n",
        "console.log(\"extensible :\",extensiblestatus);\n",
        "console.log(\"sealed :\",sealedstatus);"
      ],
      "metadata": {
        "id": "im8AhX1KzqHj"
      }
    },
    {
      "cell_type": "markdown",
      "source": [
        "Ans 4=>let students = [\n",
        "    { id: 1, firstName: \"John\", lastName: \"Doe\", age: 20, grade: \"A\" },\n",
        "    { id: 2, firstName: \"Jane\", lastName: \"Smith\", age: 22, grade: \"B\" },\n",
        "    { id: 3, firstName: \"Bob\", lastName: \"Johnson\", age: 19, grade: \"A\" }\n",
        "];\n",
        "function addstudent(student){\n",
        "    students.push(student);\n",
        "}\n",
        "function updateStudent(id,newinfo){\n",
        "    let student=students.find(s=>s.id===id);\n",
        "    if(student){\n",
        "        Object.assign(student,newinfo);\n",
        "    }\n",
        "    else console.log(\"student not found\");\n",
        "}\n",
        "function deleteStudent(id){\n",
        "    students=students.filter(s=>s.id!==id);\n",
        "}\n",
        "function listStudents(){\n",
        "    console.table(students);\n",
        "}\n",
        "function findgrade(grade){\n",
        "    return students.filter(s=>s.grade===grade);\n",
        "}\n",
        "function calavg(){\n",
        "    let totalage=students.reduce((sum,s)=>sum+s.age,0);\n",
        "    return (totalage/students.length).toFixed(2);\n",
        "}\n",
        "\n",
        "addstudent({ id: 4, firstName: \"Alice\", lastName: \"Brown\", age: 21, grade: \"B\" });\n",
        "updateStudent(2, { age: 23, grade: \"A\" });\n",
        "deleteStudent(1);\n",
        "listStudents();\n",
        "console.log(\"Grade A Students:\", findgrade(\"A\"));\n",
        "console.log(\"Average Age:\", calavg());"
      ],
      "metadata": {
        "id": "t-RvT7dmztvW"
      }
    },
    {
      "cell_type": "markdown",
      "source": [
        "Ans 5=>const student = {\n",
        "    name: \"Alice\",            \n",
        "    age: 22,                  \n",
        "    major: \"Computer Science\",\n",
        "    GPA: 3.8,                 \n",
        "    isEnrolled: true          \n",
        "};\n",
        "function displaystudentsinfo(studentinfo){\n",
        "    for(let property in studentinfo){\n",
        "        console.log(`property: ${property},value:${studentinfo[property]}`);\n",
        "    }\n",
        "}\n",
        "displaystudentsinfo(student);"
      ],
      "metadata": {
        "id": "ALOdxF9OzyCV"
      }
    }
  ]
}